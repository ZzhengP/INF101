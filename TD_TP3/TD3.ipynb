{
 "cells": [
  {
   "cell_type": "code",
   "execution_count": 1,
   "metadata": {},
   "outputs": [
    {
     "name": "stdout",
     "output_type": "stream",
     "text": [
      "267.0\n",
      "2595.0\n"
     ]
    }
   ],
   "source": [
    "def calcul_polynome(a, b, c, x):\n",
    "    return a*(x**2) + b*x + c\n",
    "\n",
    "# Programme principale\n",
    "y = float(input(\"Entrez la valeur de y: \\n\"))\n",
    "z = float(input(\"Entrez la valeur de z: \\n\"))\n",
    "\n",
    "print(calcul_polynome(3,-4,7,y))\n",
    "print(calcul_polynome(7,-10,-5,z))\n",
    "\n",
    "\n"
   ]
  },
  {
   "cell_type": "code",
   "execution_count": 1,
   "metadata": {},
   "outputs": [],
   "source": [
    "def main1():\n",
    "    y = float(input(\"Entrez une valeur pour variable y\"))\n",
    "    rep = calcul_polynome(3, -4, 7, y)\n",
    "    print(\"La valeur %d correspond au polynôme du second ordre avec coefficient %i, %i, %i est : %d \" %(y, 3,-4, 7, rep))\n",
    "\n",
    "    z = float(input(\"Entrez une valeur pour variable z\"))\n",
    "    rep = calcul_polynome(7, -10, 5, z)\n",
    "    print(\"La valeur %d correspond au polynôme du second ordre avec coefficient %i, %i, %i est : %d \" %(z, 7,-10, 5, rep))"
   ]
  },
  {
   "cell_type": "code",
   "execution_count": 5,
   "metadata": {},
   "outputs": [],
   "source": [
    "def verification_mois(mois):\n",
    "    mois_31 = [1, 3, 5, 7, 8, 10,12]\n",
    "    mois_30 = [4, 6, 9, 11]\n",
    "\n",
    "    if( mois in mois_31):\n",
    "        return \"mois_31\"\n",
    "    elif (mois in mois_30):\n",
    "        return \"mois_30\"\n",
    "    else:\n",
    "        return \"Fevrier\"\n",
    "\n",
    "def verification_bord(jour, mois, annee):\n",
    "    valide_date = True\n",
    "    if(annee < 0):\n",
    "        valide_date = False\n",
    "        return valide_date\n",
    "    if( 0 >= mois or mois >12):\n",
    "        valide_date = False\n",
    "        return valide_date\n",
    "    if(jour <= 0 or jour > 31):\n",
    "        valide_date = False\n",
    "        return valide_date\n",
    "    return valide_date    \n",
    "    \n",
    "def verification_data(jour, mois, annee):\n",
    "    valide_date = verification_bord(jour, mois, annee)\n",
    "    \n",
    "    if(not valide_date):\n",
    "        print(\"La date entrée n'est pas valide\")\n",
    "        return False\n",
    "    else:\n",
    "        mois = verification_mois(mois)\n",
    "        print(\"mois : \", mois )\n",
    "        if(mois == \"mois_31\"):\n",
    "            if(jour > 31):\n",
    "                valide_date = False\n",
    "                print(\"La date entrée n'est pas valide pour mois_31\")\n",
    "                return valide_date\n",
    "\n",
    "        if(mois == \"mois_30\"):\n",
    "            if (jour > 30):\n",
    "                valide_date = False\n",
    "                print(\"La date entrée n'est pas valide pour mois_30\")\n",
    "                return valide_date\n",
    "            \n",
    "        if(mois == \"Fevrier\"):\n",
    "            if(annee % 4 == 0):\n",
    "                if(jour > 29):\n",
    "                    valide_date = False\n",
    "                    print(\"La date entrée n'est pas valide Fevrier\")\n",
    "                    return valide_date\n",
    "            else:\n",
    "                if(jour > 28):\n",
    "                    valide_date = False\n",
    "                    print(\"La date entrée n'est pas valide Fevrier\")\n",
    "                    return valide_date\n",
    "                    \n",
    "    print(\"Vous avez entre une date correcte\")\n",
    "    return valide_date\n",
    "\n",
    "\n"
   ]
  },
  {
   "cell_type": "code",
   "execution_count": 2,
   "metadata": {},
   "outputs": [
    {
     "name": "stdout",
     "output_type": "stream",
     "text": [
      "[31, 2, 2021]\n"
     ]
    }
   ],
   "source": [
    "def test_date():\n",
    "    data = input(\"Entrez une date sous fomat jour/mois/annee\").split('/')\n",
    "\n",
    "    data_int = []\n",
    "\n",
    "    for element in data:\n",
    "        data_int.append(int(element))\n",
    "\n",
    "    print(data_int)\n",
    "   # verification_data(data[0],data[1],data[2])\n",
    "if __name__ == \"__main__\":\n",
    "    test_date()"
   ]
  },
  {
   "cell_type": "code",
   "execution_count": 5,
   "metadata": {},
   "outputs": [
    {
     "name": "stdout",
     "output_type": "stream",
     "text": [
      "chiffre :  555 \n",
      " somme:  15\n"
     ]
    }
   ],
   "source": [
    "# 1.4.5 Somme des chiffres;\n",
    "def entier_to_somme_V1(chiffre):\n",
    "    \"\"\" Cette fonction prends l'argument un entier et le converti en somme de tous ses chiffres\n",
    "    \"\"\"\n",
    "    chiffre = str(chiffre)\n",
    "    somme = 0\n",
    "    for i in range(len(chiffre)):\n",
    "        somme += int(chiffre[i])\n",
    "    return somme\n",
    "    \n",
    "def entier_to_somme(chiffre):\n",
    "    \"\"\" Cette fonction prends l'argument un entier et le converti en somme de tous ses chiffres\n",
    "    \"\"\"\n",
    "    somme = 0\n",
    "    while(True):\n",
    "        div_entier = chiffre//10\n",
    "        if(div_entier == 0):  \n",
    "            somme += chiffre\n",
    "            break\n",
    "        else:\n",
    "            somme += chiffre %10\n",
    "            chiffre = chiffre//10\n",
    "    return somme\n",
    "\n",
    "chiffre = int(input(\"Entrez un chiffre pour le convertir en somme des chiffres\"))\n",
    "\n",
    "print(\"chiffre : \", chiffre, '\\n somme: ', entier_to_somme(chiffre))\n",
    "#print(\"chiffre : \", chiffre, '\\n somme: ', entier_to_somme_V1(chiffre))\n",
    "\n"
   ]
  },
  {
   "cell_type": "code",
   "execution_count": 11,
   "metadata": {},
   "outputs": [
    {
     "name": "stdout",
     "output_type": "stream",
     "text": [
      "binaire representation du chiffre 3456:   \n",
      " 0b110110000000  /  0b110110000000\n",
      "Décimale représentation du binaire 0b110110000000  \n",
      " 3456 3456\n"
     ]
    }
   ],
   "source": [
    "def decimal_to_bin(chiffre_dic):\n",
    "    \"\"\"\n",
    "    Cette fonction prends un entier représenté dans la base de 10 et renvoit un entier décrit dans la base binaire\n",
    "    \"\"\"\n",
    "    binaire_rep = \"\"\n",
    "    while True:\n",
    "        if(chiffre_dic//2 ==0):\n",
    "            binaire_rep = str(chiffre_dic%2) + binaire_rep\n",
    "            break\n",
    "        else:\n",
    "            binaire_rep = str(chiffre_dic%2) + binaire_rep\n",
    "            chiffre_dic = chiffre_dic//2\n",
    "        \n",
    "    return \"0b\" + binaire_rep\n",
    "\n",
    "def bin_to_decimal(chiffre_bin):\n",
    "    \"\"\"\n",
    "    Cette fonction prends un entier représenté dans la base binaire et renvoit un entier décrit dans la base décimale\n",
    "    \"\"\"\n",
    "    chiffre_bin = int(chiffre_bin[2:])\n",
    "    somme = 0\n",
    "    i = 0\n",
    "    while True:\n",
    "        if( chiffre_bin // 10 == 0 ):\n",
    "            somme += (chiffre_bin%10)*(2**i)\n",
    "            break\n",
    "        else:\n",
    "            somme += (chiffre_bin%10)*(2**i)\n",
    "            chiffre_bin = chiffre_bin//10\n",
    "        i += 1\n",
    "    \n",
    "    return somme\n",
    "\n",
    "chiffre = int(input(\"Entrez un chiffre pour le convertir en somme des chiffres\"))\n",
    "\n",
    "bin_rep = decimal_to_bin(chiffre)\n",
    "\n",
    "print(\"binaire representation du chiffre %d:  \" %chiffre, \"\\n\",  bin_rep, \" / \", bin(chiffre))\n",
    "print(\"Décimale représentation du binaire %s \" %bin_rep, \"\\n\", bin_to_decimal(bin_rep), int(bin_rep,2))\n"
   ]
  },
  {
   "cell_type": "code",
   "execution_count": 41,
   "metadata": {},
   "outputs": [
    {
     "name": "stdout",
     "output_type": "stream",
     "text": [
      "La valeur que vous avez entré n'est pas correcte\n"
     ]
    }
   ],
   "source": [
    "# 1.4.9 Dé\n",
    "def verifier_de(nombre):\n",
    "    \"\"\" Cette function verifie si la valeur entrée est bien compris entre 1 et 6\"\"\"\n",
    "    return (1<= nombre <= 6)\n",
    "\n",
    "def main():\n",
    "    \n",
    "    nbr = int(input(\"Entre une valeur correspondante au dée\"))\n",
    "    if(not verifier_de(nbr)):\n",
    "        print(\"La valeur que vous avez entré n'est pas correcte\")\n",
    "    else:\n",
    "        nbr_2 = int(input(\"La première valeur est correcte, entrez une deuxième valeur de dé\"))\n",
    "        print(\"la somme de valeur des deux dés est: %d \" %(nbr + nbr_2))\n",
    "    \n",
    "main()"
   ]
  },
  {
   "cell_type": "code",
   "execution_count": 60,
   "metadata": {},
   "outputs": [
    {
     "name": "stdout",
     "output_type": "stream",
     "text": [
      "(16, 2)\n"
     ]
    }
   ],
   "source": [
    "#  1.4.12 Calculatrice\n",
    "def soustraction(a,b):\n",
    "    return a - b\n",
    "\n",
    "def addition(a,b):\n",
    "    return soustraction(a,soustraction(0,b))\n",
    "\n",
    "def multiplication(a,b):\n",
    "    somme = 0\n",
    "    i = 0\n",
    "    while i < b:\n",
    "        somme += addition(0,a)\n",
    "        i += 1\n",
    "    return somme\n",
    "\n",
    "def division(a,b):\n",
    "    quotient = 1\n",
    "    while soustraction(a,b) >= b:\n",
    "        quotient += 1\n",
    "        a = soustraction(a,b)\n",
    "        \n",
    "    return quotient, soustraction(a,b) \n",
    "\n",
    "print(division(50,3))"
   ]
  },
  {
   "cell_type": "code",
   "execution_count": 6,
   "metadata": {},
   "outputs": [
    {
     "name": "stdout",
     "output_type": "stream",
     "text": [
      "Est ce une lettre majuscule de l'alphabet:  False\n",
      "Est ce une voyelle en majuscule:  False\n"
     ]
    }
   ],
   "source": [
    "#1.5.1\n",
    "x = input(\"Entrez une lettre\")\n",
    "print(\"Est-ce une lettre majuscule de l'alphabet: \\n\", x.isupper())\n",
    "\n",
    "y = input(\"Entrez un caractère\")\n",
    "voyelle = [\"a\", \"o\", \"u\", \"i\",\"y\",\"e\",\"A\",\"O\",\"U\",\"I\",\"Y\",\"E\"]\n",
    "print(\"Est-ce que c'est une voyelle en majuscule: \\n\", ((y in voyelle) and y.isupper()))\n",
    "\n",
    "print(\"Est-ce que x et y sont des lettres minuscules de l'alphabet: \\n \", (x.islower() and y.islower()))\n",
    "\n",
    "\n"
   ]
  },
  {
   "cell_type": "code",
   "execution_count": 14,
   "metadata": {},
   "outputs": [
    {
     "name": "stdout",
     "output_type": "stream",
     "text": [
      "Est-ce qu x contient entre 3 et 7 lettre: \n",
      " False\n",
      "Est-ce qu n est le code ASCII d'une lettre majuscule: \n",
      " False\n"
     ]
    }
   ],
   "source": [
    "x = input(\"Entrez un caractère\")\n",
    "y = input(\"Entrez un caractère\")\n",
    "#print(\"Est-ce que x est strictement avant y dans l'ordre alphabétique: \\n\", (ord(x)<ord(y)))\n",
    "\n",
    "print(\"Est-ce qu x contient entre 3 et 7 lettre: \\n\", (3<= len(x)<=7))\n",
    "n = int(input(\"Entre un code ASCII\"))\n",
    "print(\"Est-ce qu n est le code ASCII d'une lettre majuscule: \\n\", (ord(\"A\") <= n <= ord(\"Z\")))\n"
   ]
  },
  {
   "cell_type": "code",
   "execution_count": 20,
   "metadata": {},
   "outputs": [
    {
     "name": "stdout",
     "output_type": "stream",
     "text": [
      "\n",
      "a \n",
      "b c \n",
      "d e f \n",
      "g h i j \n",
      "k l m n o \n",
      "p q r s t u \n",
      "v w x y z - - \n",
      "              \n",
      "            a \n",
      "          b c \n",
      "        d e f \n",
      "      g h i j \n",
      "    k l m n o \n",
      "  p q r s t u \n",
      "v w x y z - - \n"
     ]
    }
   ],
   "source": [
    "# 1.5.2\n",
    "def pyramide_alphabet():\n",
    "    begin = ord('a')\n",
    "    end = ord('z')\n",
    "    k = 0    \n",
    "    for i in range(0,8):\n",
    "        affiche = ''\n",
    "        for _ in range(i):\n",
    "            if(chr(k + begin).isalpha()):\n",
    "                affiche += chr(k + begin) + ' '\n",
    "            else:\n",
    "                affiche += '- '\n",
    "            k += 1\n",
    "\n",
    "        print(affiche)\n",
    "\n",
    "\n",
    "def pyramide_alphabet_decaler():\n",
    "    begin = ord('a')\n",
    "    end = ord('z')\n",
    "    k = 0    \n",
    "    for i in range(0,8):\n",
    "        affiche = ''\n",
    "        for _ in range(i):\n",
    "            if(chr(k + begin).isalpha()):\n",
    "                affiche += chr(k + begin) + ' '\n",
    "            else:\n",
    "                affiche += '- '\n",
    "            k += 1\n",
    "\n",
    "        print('{:>{N}}'.format(affiche, N = 7*2))\n",
    "\n",
    "\n",
    "pyramide_alphabet()\n",
    "pyramide_alphabet_decaler()"
   ]
  },
  {
   "cell_type": "code",
   "execution_count": 1,
   "metadata": {},
   "outputs": [
    {
     "name": "stdout",
     "output_type": "stream",
     "text": [
      "Liste pair \n",
      " [4, 2, 48]\n",
      "Liste impair \n",
      " [1, 3, 93, 5]\n"
     ]
    }
   ],
   "source": [
    "#1.6.2 Création de liste\n",
    "liste_paire = []\n",
    "liste_impaire = []\n",
    "a = int(input(\"Entrez un entier (avec 0 la sortie de la boucle) :\"))\n",
    "while ( a != 0):\n",
    "    if(a > 0 and a%2 == 0):\n",
    "        liste_paire.append(a)\n",
    "        \n",
    "    if(a > 0 and a%2 != 0):\n",
    "        liste_impaire.append(a)\n",
    "    a = int(input(\"Entrez un entier (avec 0 la sortie de la boucle) :\"))\n",
    "\n",
    "print('Liste pair \\n', liste_paire)\n",
    "print('Liste impair \\n', liste_impaire)"
   ]
  },
  {
   "cell_type": "code",
   "execution_count": 10,
   "metadata": {},
   "outputs": [
    {
     "name": "stdout",
     "output_type": "stream",
     "text": [
      "a \n",
      "\n",
      "h \n",
      "\n",
      "o \n",
      "\n",
      "v \n",
      "\n"
     ]
    }
   ],
   "source": [
    "# Affichage de liste\n",
    "import string\n",
    "alphabet_string = list(string.ascii_lowercase)\n",
    "\n",
    "# for a in alphabet_string:\n",
    "#     print(a)\n",
    "# print(\" \\n------\")\n",
    "\n",
    "# for a in alphabet_string:\n",
    "#     if(a != 'z'):\n",
    "#         print(a, end = ',')\n",
    "#     else:\n",
    "#         print(a, end = '')\n",
    "\n",
    "# print(\" \\n------\")\n",
    "# i = 0\n",
    "# for a in alphabet_string:\n",
    "#     i += 1\n",
    "#     if(i != 10):\n",
    "#         print(a, end = ',')\n",
    "#     else:\n",
    "#         print(a, end = '\\n')\n",
    "#         i = 0\n",
    "\n",
    "# print(\" \\n------\")\n",
    "j = 0\n",
    "removed_liste = alphabet_string.copy()\n",
    "while (len(removed_liste) > 0):    \n",
    "    for i in range(j,len(alphabet_string),7):\n",
    "        print(alphabet_string[i], end = ' ')\n",
    "        removed_liste.remove(alphabet_string[i])\n",
    "    j += 1\n",
    "    print('\\n')\n"
   ]
  },
  {
   "cell_type": "code",
   "execution_count": 23,
   "metadata": {},
   "outputs": [
    {
     "name": "stdout",
     "output_type": "stream",
     "text": [
      "False\n"
     ]
    }
   ],
   "source": [
    "# 1.6.4 Test d'appartenance\n",
    "def appartenance(element, l):\n",
    "    for i in range(len(l)):\n",
    "        if element == l[i]:\n",
    "            return True\n",
    "    return False\n",
    "l = [3, 4, 5, 6, 7]\n",
    "print(appartenance(2,l))"
   ]
  },
  {
   "cell_type": "code",
   "execution_count": 24,
   "metadata": {},
   "outputs": [
    {
     "name": "stdout",
     "output_type": "stream",
     "text": [
      "1\n"
     ]
    }
   ],
   "source": [
    "#1.6.5\n",
    "def apparition(element, l):\n",
    "    for i in range(len(l)):\n",
    "        if element == l[i]:\n",
    "            return i\n",
    "    return -1\n",
    "l = [3, 4, 5, 6, 7]\n",
    "print(apparition(4,l))       "
   ]
  },
  {
   "cell_type": "code",
   "execution_count": 27,
   "metadata": {},
   "outputs": [
    {
     "name": "stdout",
     "output_type": "stream",
     "text": [
      "1\n"
     ]
    }
   ],
   "source": [
    "# 1.6.6\n",
    "def comptage(element, l):\n",
    "    count = 0\n",
    "    for i in range(len(l)):\n",
    "        if element == l[i]:\n",
    "            count += 1\n",
    "    return count\n",
    "l = [3,5, 4, 4, 5,5, 6, 7]\n",
    "print(comptage(3,l))"
   ]
  },
  {
   "cell_type": "code",
   "execution_count": 29,
   "metadata": {},
   "outputs": [
    {
     "name": "stdout",
     "output_type": "stream",
     "text": [
      "7\n",
      "3\n"
     ]
    }
   ],
   "source": [
    "# 1.6.7\n",
    "def maximum(l):\n",
    "    val_max = l[0]\n",
    "    for i in range(1,len(l)):\n",
    "        if(val_max < l[i]):\n",
    "            val_max = l[i]\n",
    "    return val_max\n",
    "print(maximum(l))    \n",
    "def minimal(l):\n",
    "    val_min = l[0]\n",
    "    for i in range(1,len(l)):\n",
    "        if(val_min > l[i]):\n",
    "            val_min = l[i]\n",
    "    return val_min\n",
    "print(minimal(l)) "
   ]
  },
  {
   "cell_type": "code",
   "execution_count": 31,
   "metadata": {},
   "outputs": [
    {
     "name": "stdout",
     "output_type": "stream",
     "text": [
      "39\n",
      "4.875\n"
     ]
    }
   ],
   "source": [
    "#1.6.8\n",
    "def somme(l):\n",
    "    sum_val = 0\n",
    "    for i in l:\n",
    "        sum_val += i\n",
    "    return sum_val\n",
    "print(somme(l)) \n",
    "def moyenne(l):\n",
    "    return somme(l)/len(l)\n",
    "print(moyenne(l))"
   ]
  },
  {
   "cell_type": "code",
   "execution_count": 33,
   "metadata": {},
   "outputs": [
    {
     "name": "stdout",
     "output_type": "stream",
     "text": [
      "[1, 2, 4, 8, 16, 32]\n"
     ]
    }
   ],
   "source": [
    "#1.6.9\n",
    "def puissances(n):\n",
    "    temp = 1\n",
    "    liste_puissance = [1]\n",
    "    for i in range(0,n):\n",
    "        liste_puissance.append(liste_puissance[i]*2)\n",
    "    return liste_puissance\n",
    "print(puissances(5))"
   ]
  },
  {
   "cell_type": "code",
   "execution_count": 41,
   "metadata": {},
   "outputs": [
    {
     "name": "stdout",
     "output_type": "stream",
     "text": [
      "False\n"
     ]
    }
   ],
   "source": [
    "#1.6.11\n",
    "def liste_diviseur(n):\n",
    "    diviseur = [1]\n",
    "    for i in range(2, n-1):\n",
    "        if n%i == 0:\n",
    "            diviseur.append(i)\n",
    "\n",
    "    diviseur.append(n)\n",
    "    return diviseur\n",
    "\n",
    "def est_premier(n):\n",
    "    list_diviseur = liste_diviseur(n)\n",
    "    if len(list_diviseur) > 2:\n",
    "        return False\n",
    "    else:\n",
    "        return True \n",
    "print(est_premier(4)) \n"
   ]
  },
  {
   "cell_type": "code",
   "execution_count": null,
   "metadata": {},
   "outputs": [],
   "source": []
  }
 ],
 "metadata": {
  "interpreter": {
   "hash": "764b969f159b957bf46a444a23a31d564e0115ac144d088117c8423e11af7352"
  },
  "kernelspec": {
   "display_name": "Python 3.6.12 64-bit (conda)",
   "name": "python3"
  },
  "language_info": {
   "codemirror_mode": {
    "name": "ipython",
    "version": 3
   },
   "file_extension": ".py",
   "mimetype": "text/x-python",
   "name": "python",
   "nbconvert_exporter": "python",
   "pygments_lexer": "ipython3",
   "version": "3.6.12"
  },
  "orig_nbformat": 4
 },
 "nbformat": 4,
 "nbformat_minor": 2
}
