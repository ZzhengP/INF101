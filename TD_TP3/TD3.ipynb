{
 "cells": [
  {
   "cell_type": "code",
   "execution_count": 1,
   "source": [
    "def calcul_polynome(a, b, c, x):\n",
    "    return a*(x**2) + b*x + c\n",
    "\n",
    "# Programme principale\n",
    "y = float(input(\"Entrez la valeur de y: \\n\"))\n",
    "z = float(input(\"Entrez la valeur de z: \\n\"))\n",
    "\n",
    "print(calcul_polynome(3,-4,7,y))\n",
    "print(calcul_polynome(7,-10,-5,z))\n",
    "\n",
    "\n"
   ],
   "outputs": [
    {
     "output_type": "stream",
     "name": "stdout",
     "text": [
      "267.0\n",
      "2595.0\n"
     ]
    }
   ],
   "metadata": {}
  },
  {
   "cell_type": "code",
   "execution_count": 1,
   "source": [
    "def main1():\n",
    "    y = float(input(\"Entrez une valeur pour variable y\"))\n",
    "    rep = calcul_polynome(3, -4, 7, y)\n",
    "    print(\"La valeur %d correspond au polynôme du second ordre avec coefficient %i, %i, %i est : %d \" %(y, 3,-4, 7, rep))\n",
    "\n",
    "    z = float(input(\"Entrez une valeur pour variable z\"))\n",
    "    rep = calcul_polynome(7, -10, 5, z)\n",
    "    print(\"La valeur %d correspond au polynôme du second ordre avec coefficient %i, %i, %i est : %d \" %(z, 7,-10, 5, rep))"
   ],
   "outputs": [],
   "metadata": {}
  },
  {
   "cell_type": "code",
   "execution_count": 5,
   "source": [
    "def verification_mois(mois):\n",
    "    mois_31 = [1, 3, 5, 7, 8, 10,12]\n",
    "    mois_30 = [4, 6, 9, 11]\n",
    "\n",
    "    if( mois in mois_31):\n",
    "        return \"mois_31\"\n",
    "    elif (mois in mois_30):\n",
    "        return \"mois_30\"\n",
    "    else:\n",
    "        return \"Fevrier\"\n",
    "\n",
    "def verification_bord(jour, mois, annee):\n",
    "    valide_date = True\n",
    "    if(annee < 0):\n",
    "        valide_date = False\n",
    "        return valide_date\n",
    "    if( 0 >= mois or mois >12):\n",
    "        valide_date = False\n",
    "        return valide_date\n",
    "    if(jour <= 0 or jour > 31):\n",
    "        valide_date = False\n",
    "        return valide_date\n",
    "    return valide_date    \n",
    "    \n",
    "def verification_data(jour, mois, annee):\n",
    "    valide_date = verification_bord(jour, mois, annee)\n",
    "    \n",
    "    if(not valide_date):\n",
    "        print(\"La date entrée n'est pas valide\")\n",
    "        return False\n",
    "    else:\n",
    "        mois = verification_mois(mois)\n",
    "        print(\"mois : \", mois )\n",
    "        if(mois == \"mois_31\"):\n",
    "            if(jour > 31):\n",
    "                valide_date = False\n",
    "                print(\"La date entrée n'est pas valide pour mois_31\")\n",
    "                return valide_date\n",
    "\n",
    "        if(mois == \"mois_30\"):\n",
    "            if (jour > 30):\n",
    "                valide_date = False\n",
    "                print(\"La date entrée n'est pas valide pour mois_30\")\n",
    "                return valide_date\n",
    "            \n",
    "        if(mois == \"Fevrier\"):\n",
    "            if(annee % 4 == 0):\n",
    "                if(jour > 29):\n",
    "                    valide_date = False\n",
    "                    print(\"La date entrée n'est pas valide Fevrier\")\n",
    "                    return valide_date\n",
    "            else:\n",
    "                if(jour > 28):\n",
    "                    valide_date = False\n",
    "                    print(\"La date entrée n'est pas valide Fevrier\")\n",
    "                    return valide_date\n",
    "                    \n",
    "    print(\"Vous avez entre une date correcte\")\n",
    "    return valide_date\n",
    "\n",
    "\n"
   ],
   "outputs": [],
   "metadata": {}
  },
  {
   "cell_type": "code",
   "execution_count": 2,
   "source": [
    "def test_date():\n",
    "    data = input(\"Entrez une date sous fomat jour/mois/annee\").split('/')\n",
    "\n",
    "    data_int = []\n",
    "\n",
    "    for element in data:\n",
    "        data_int.append(int(element))\n",
    "\n",
    "    print(data_int)\n",
    "   # verification_data(data[0],data[1],data[2])\n",
    "if __name__ == \"__main__\":\n",
    "    test_date()"
   ],
   "outputs": [
    {
     "output_type": "stream",
     "name": "stdout",
     "text": [
      "[31, 2, 2021]\n"
     ]
    }
   ],
   "metadata": {}
  },
  {
   "cell_type": "code",
   "execution_count": 3,
   "source": [
    "def somme(a,b):\n",
    "    return a+b\n",
    "\n",
    "def use_somme(a,b,somme):\n",
    "    \"\"\"\n",
    "    param: somme est une function passée comme l'arguemnt \n",
    "    \"\"\"\n",
    "    print(somme(a,b))\n",
    "\n",
    "print(use_somme(1,10,somme))"
   ],
   "outputs": [
    {
     "output_type": "stream",
     "name": "stdout",
     "text": [
      "11\n",
      "None\n"
     ]
    }
   ],
   "metadata": {}
  },
  {
   "cell_type": "code",
   "execution_count": null,
   "source": [],
   "outputs": [],
   "metadata": {}
  }
 ],
 "metadata": {
  "orig_nbformat": 4,
  "language_info": {
   "name": "python",
   "version": "3.6.12",
   "mimetype": "text/x-python",
   "codemirror_mode": {
    "name": "ipython",
    "version": 3
   },
   "pygments_lexer": "ipython3",
   "nbconvert_exporter": "python",
   "file_extension": ".py"
  },
  "kernelspec": {
   "name": "python3",
   "display_name": "Python 3.6.12 64-bit ('handsOnML': conda)"
  },
  "interpreter": {
   "hash": "bd84945238c9b0b69d44e46c56455af05186022fc6d55f9731994d6a2fd88bad"
  }
 },
 "nbformat": 4,
 "nbformat_minor": 2
}