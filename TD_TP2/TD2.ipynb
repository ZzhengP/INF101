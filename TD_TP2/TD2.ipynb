{
 "cells": [
  {
   "cell_type": "code",
   "execution_count": null,
   "metadata": {},
   "outputs": [],
   "source": [
    "# 1.3.1\n",
    "i = 0\n",
    "while i <= 10:\n",
    "  print(\"i est %i\" %i)\n",
    "  i += 1\n",
    "\n",
    "print(\"------------------\")\n",
    "i = 10\n",
    "\n",
    "while i >= 0:\n",
    "  print(\"i est %i\" %i)\n",
    "  i -= 1\n",
    "\n",
    "i = 0\n",
    "print(\"------------------\")\n",
    "\n",
    "while i < 30:\n",
    "    if i %3 == 0:\n",
    "        print(\"%i est un multiple de trois\" %i)\n",
    "    i +=1 ;\n",
    "\n",
    "print(\"------------------\")\n",
    "i = 1\n",
    "while i < 300:\n",
    "    if i %3 == 0:\n",
    "        print(\"%i est un multiple de trois\" %i)\n",
    "    i +=1 ;\n",
    "\n"
   ]
  },
  {
   "cell_type": "code",
   "execution_count": 81,
   "metadata": {},
   "outputs": [],
   "source": [
    "while True:\n",
    "    x = int(input('Veuillez entrer une valeur  inférieur ou égale à 0 \\n'))\n",
    "    if ( x <= 0 ):\n",
    "         break;\n",
    "    else:\n",
    "        print(\"La valeur est strictement supérieur à 0\")\n"
   ]
  },
  {
   "cell_type": "code",
   "execution_count": 82,
   "metadata": {},
   "outputs": [
    {
     "name": "stdout",
     "output_type": "stream",
     "text": [
      "----- test voyelle -----\n"
     ]
    }
   ],
   "source": [
    "print(\"----- test voyelle -----\")\n",
    "voyelle = \"aoeuiy\"\n",
    "saisie = True\n",
    "while(saisie):\n",
    "    c = input(\"Entrez un caractere \\n\")\n",
    "    saisie = not (c in voyelle)\n"
   ]
  },
  {
   "cell_type": "markdown",
   "metadata": {},
   "source": []
  },
  {
   "cell_type": "code",
   "execution_count": 83,
   "metadata": {},
   "outputs": [
    {
     "name": "stdout",
     "output_type": "stream",
     "text": [
      "total étoile :  40\n"
     ]
    }
   ],
   "source": [
    "i = 20\n",
    "j = 0\n",
    "while i < 100:\n",
    "    if i%2 != 0:\n",
    "        j+=1\n",
    "    i = i + 1\n",
    "print(\"total étoile : \", j)"
   ]
  },
  {
   "cell_type": "markdown",
   "metadata": {},
   "source": [
    "# 1.3.2 Lecuture du code\n"
   ]
  },
  {
   "cell_type": "code",
   "execution_count": 84,
   "metadata": {},
   "outputs": [
    {
     "name": "stdout",
     "output_type": "stream",
     "text": [
      "*\n",
      "*\n",
      "*\n",
      "*\n",
      "*\n",
      "5\n"
     ]
    }
   ],
   "source": [
    "i = 1\n",
    "j = 0\n",
    "while i <= 16:\n",
    "    print('*')\n",
    "    j += 1\n",
    "    i *= 2\n",
    "print(j)\n"
   ]
  },
  {
   "cell_type": "markdown",
   "metadata": {},
   "source": [
    "# Dé pipé"
   ]
  },
  {
   "cell_type": "code",
   "execution_count": 87,
   "metadata": {},
   "outputs": [
    {
     "name": "stdout",
     "output_type": "stream",
     "text": [
      "x,  5\n",
      "x,  1\n",
      "x,  4\n"
     ]
    }
   ],
   "source": [
    "\n",
    "# Exercice 1.3.4 Dé pipé\n",
    "import random\n",
    "\n",
    "x = random.randint(1,6)\n",
    "quite_loop = False\n",
    "while not quite_loop:\n",
    "    print(\"x, \", x)\n",
    "    if (x %2 != 0):\n",
    "        x = random.randint(1,6)\n",
    "    else:\n",
    "        quite_loop = True\n"
   ]
  },
  {
   "cell_type": "markdown",
   "metadata": {},
   "source": [
    "# 1.3.5 voyelle\n"
   ]
  },
  {
   "cell_type": "code",
   "execution_count": 88,
   "metadata": {},
   "outputs": [],
   "source": [
    "# Avec break\n",
    "voyelle = \"aoeuiy\"\n",
    "while True:\n",
    "    c = input(\"Entrez un caractere\")\n",
    "    if (c in voyelle):\n",
    "        break\n",
    "\n",
    "    \n"
   ]
  },
  {
   "cell_type": "code",
   "execution_count": 18,
   "metadata": {},
   "outputs": [
    {
     "name": "stdout",
     "output_type": "stream",
     "text": [
      "True\n"
     ]
    }
   ],
   "source": [
    "Not_Saisie = False\n",
    "voyelle = \"aoeuiy\"\n",
    "\n",
    "while (not Not_Saisie):\n",
    "    c = input(\"Entrez un caractere\")\n",
    "    if (c in voyelle):\n",
    "        Not_Saisie = True\n"
   ]
  },
  {
   "cell_type": "markdown",
   "metadata": {},
   "source": [
    "# 1.3.7 Accumulateur simple\n"
   ]
  },
  {
   "cell_type": "code",
   "execution_count": 90,
   "metadata": {},
   "outputs": [
    {
     "name": "stdout",
     "output_type": "stream",
     "text": [
      "La somme des 3 entiers est : 13\n"
     ]
    }
   ],
   "source": [
    "somme = 0\n",
    "count = 0\n",
    "while True:\n",
    "    x = int(input(\"Entrez un entier \"))\n",
    "    somme = somme + x\n",
    "    count += 1\n",
    "    c = input(\"Une nouvelle valeur ? y or n \")\n",
    "    if (c == 'n'):\n",
    "        break\n",
    "print(\"La somme des %i entiers est : %i\" %(count, somme))\n"
   ]
  },
  {
   "cell_type": "code",
   "execution_count": 22,
   "metadata": {},
   "outputs": [
    {
     "name": "stdout",
     "output_type": "stream",
     "text": [
      "somme est 5050\n"
     ]
    }
   ],
   "source": [
    "# 1\n",
    "n = int(input(\"Entrez un entier\"))\n",
    "i = 0\n",
    "somme = 0\n",
    "while i <= n:\n",
    "    somme += i\n",
    "    i += 1\n",
    "print(\"somme est %i\"  %somme)"
   ]
  },
  {
   "cell_type": "code",
   "execution_count": 23,
   "metadata": {},
   "outputs": [
    {
     "name": "stdout",
     "output_type": "stream",
     "text": [
      "somme est 25\n"
     ]
    }
   ],
   "source": [
    "#2\n",
    "n = int(input(\"Entrez un entier\"))\n",
    "i = 0\n",
    "somme = 0\n",
    "while i <= n:\n",
    "    if (i%2!= 0):\n",
    "        somme += i\n",
    "    i += 1\n",
    "print(\"somme est %i\"  %somme)"
   ]
  },
  {
   "cell_type": "code",
   "execution_count": 26,
   "metadata": {},
   "outputs": [
    {
     "name": "stdout",
     "output_type": "stream",
     "text": [
      "9\n"
     ]
    }
   ],
   "source": [
    "#3 \n",
    "n = int(input(\"Entrez un entier\"))\n",
    "i = 0\n",
    "somme = 0\n",
    "while i < n:\n",
    "    x = int(input(\"Entrez un entier à ajouter à la somme\"))\n",
    "    somme += x\n",
    "    i += 1\n",
    "print(somme)"
   ]
  },
  {
   "cell_type": "code",
   "execution_count": null,
   "metadata": {},
   "outputs": [],
   "source": [
    "#4 \n",
    "n = int(input(\"Entrez un entier\"))\n",
    "i = 0\n",
    "somme = 0\n",
    "while i < n:\n",
    "    x = int(input(\"Entrez un entier à multipiler à la somme\"))\n",
    "    somme *= x\n",
    "    i += 1\n",
    "print(somme)"
   ]
  },
  {
   "cell_type": "code",
   "execution_count": 32,
   "metadata": {},
   "outputs": [
    {
     "name": "stdout",
     "output_type": "stream",
     "text": [
      "Entrez un pair d'entier pour 1 pair\n",
      "Entrez un pair d'entier pour 2 pair\n",
      "Tous les pairs sont en ordre croissant\n"
     ]
    }
   ],
   "source": [
    "n = int(input(\"Entrez un entier\"))\n",
    "i = 0\n",
    "croissant = True\n",
    "while i < n:\n",
    "    print(\"Entrez un pair d'entier pour %i pair\" %(i+1))\n",
    "    a = int(input(\"La première valeur est :\"))  \n",
    "    b = int(input(\"La deuxième valeur est :\"))\n",
    "\n",
    "    if(a > b):\n",
    "        croissant = False\n",
    "    i += 1\n",
    "if (croissant):\n",
    "    print(\"Tous les pairs sont en ordre croissant\")\n",
    "else:\n",
    "    print(\"Tous les pairs ne sont pas en ordre croissant\")\n"
   ]
  },
  {
   "cell_type": "markdown",
   "metadata": {},
   "source": [
    "# 1.3.8 Moyenne, minimum, maximum\n"
   ]
  },
  {
   "cell_type": "code",
   "execution_count": 2,
   "metadata": {},
   "outputs": [
    {
     "name": "stdout",
     "output_type": "stream",
     "text": [
      "Vous avez entrer une valeur non correcte.\n",
      "la moyenne est 2 la note maximale est 3 la note minimale est 2\n"
     ]
    }
   ],
   "source": [
    "Not_Saisie = False\n",
    "nbr_totale_note = 0\n",
    "note_max = 0\n",
    "note_min = 10\n",
    "somme = 0\n",
    "while(not Not_Saisie):\n",
    "    x = float(input(\"Entrez une note entre 0 et 20, tout autre valeur signifie fin de la saisie\"))\n",
    "    if (0 <= x <= 20):\n",
    "        nbr_totale_note += 1\n",
    "        somme += x\n",
    "        if (x > note_max):\n",
    "            note_max = x\n",
    "        if (x < note_min):\n",
    "            note_min = x\n",
    "    else:\n",
    "        print(\"Vous avez entrer une valeur non correcte.\")\n",
    "        Not_Saisie = True\n",
    "print(\"la moyenne est %d la note maximale est %d la note minimale est %d\" %(somme/nbr_totale_note ,note_max ,note_min))"
   ]
  },
  {
   "cell_type": "markdown",
   "metadata": {},
   "source": [
    "# 1.3.14 Suite de Fibonacci"
   ]
  },
  {
   "cell_type": "code",
   "execution_count": 89,
   "metadata": {},
   "outputs": [
    {
     "name": "stdout",
     "output_type": "stream",
     "text": [
      "La valeur de fibonnaci pour terme 100 égale à est 573147844013817084101 \n",
      "Le nombre d'or est 1.61803398874989490253 \n"
     ]
    }
   ],
   "source": [
    "f_0 = 1\n",
    "f_1 = 1\n",
    "n = int(input(\"Donnez le terme n de Fibonacci, avec n >= 2: \\n\"))\n",
    "\n",
    "i = 2\n",
    "f_n = 0\n",
    "while (i <= n):\n",
    "    f_n = f_1 + f_0\n",
    "    temp = f_1\n",
    "    f_1 = f_n\n",
    "    f_0 = temp\n",
    "    i += 1 \n",
    "print(\"La valeur de fibonnaci pour terme %i égale à est %i \" %(n,f_n))\n",
    "print(\"Le nombre d'or est %1.20f \" %(f_n/f_0))\n"
   ]
  },
  {
   "cell_type": "code",
   "execution_count": 57,
   "metadata": {},
   "outputs": [
    {
     "name": "stdout",
     "output_type": "stream",
     "text": [
      "valeur de fibonnaci pour terme 100 égale à est 573147844013817084101 \n",
      "Le nombre d'or est 1.618034 \n"
     ]
    }
   ],
   "source": [
    "f_0 = 1\n",
    "f_1 = 1\n",
    "n = int(input(\"Donnez le terme n de Fibonacci, n >= 2\"))\n",
    "i = 2\n",
    "fib = 0\n",
    "while i <= n :\n",
    "    fib = f_0 + f_1\n",
    "    temp = f_1\n",
    "    f_1 = fib\n",
    "    f_0 = temp\n",
    "    i += 1\n",
    "print(\"valeur de fibonnaci pour terme %i égale à est %i \" %(n,fib))\n",
    "print(\"Le nombre d'or est %f \" %(fib/f_0))\n"
   ]
  },
  {
   "cell_type": "code",
   "execution_count": 91,
   "metadata": {},
   "outputs": [
    {
     "name": "stdout",
     "output_type": "stream",
     "text": [
      "Le term 6 de Fib divise 5 permet obtenir une valeur estimée de Fib avec la précision 0.010000\n"
     ]
    }
   ],
   "source": [
    "def Fibonaci(n):\n",
    "    f_0 = 1\n",
    "    f_1 = 1\n",
    "    i = 2\n",
    "    fib = 0\n",
    "    while i <= n :\n",
    "        fib = f_0 + f_1\n",
    "        temp = f_1\n",
    "        f_1 = fib\n",
    "        f_0 = temp\n",
    "        i += 1\n",
    "    return fib\n",
    "\n",
    "nbor = 1.618033988749895\n",
    "precision = float(input(\"donnez une précision entre le nombre d'or et valeur calculé par programm\"))\n",
    "is_precis = False\n",
    "n = 3\n",
    "while (not is_precis):\n",
    "    estimated_nbor = Fibonaci(n)/Fibonaci(n-1)\n",
    "    if(abs(nbor - estimated_nbor) < precision):\n",
    "        print(\"Le term %i de Fib divise %i permet obtenir une valeur estimée de Fib avec la précision %f\" %(n,n-1,precision))\n",
    "        is_precis = True\n",
    "    else:\n",
    "        n += 1"
   ]
  },
  {
   "cell_type": "markdown",
   "metadata": {},
   "source": [
    "# Syracuse\n"
   ]
  },
  {
   "cell_type": "code",
   "execution_count": 96,
   "metadata": {},
   "outputs": [
    {
     "name": "stdout",
     "output_type": "stream",
     "text": [
      "La valeur dela suite au terme 1 est égale à 15 \n",
      "La valeur dela suite au terme 2 est égale à 46 \n",
      "La valeur dela suite au terme 3 est égale à 23 \n",
      "La valeur dela suite au terme 4 est égale à 70 \n",
      "La valeur dela suite au terme 5 est égale à 35 \n",
      "La valeur dela suite au terme 6 est égale à 106 \n",
      "La valeur dela suite au terme 7 est égale à 53 \n",
      "La valeur dela suite au terme 8 est égale à 160 \n",
      "La valeur dela suite au terme 9 est égale à 80 \n",
      "La valeur dela suite au terme 10 est égale à 40 \n",
      "La valeur dela suite au terme 11 est égale à 20 \n",
      "La valeur dela suite au terme 12 est égale à 10 \n",
      "La valeur dela suite au terme 13 est égale à 5 \n",
      "La valeur dela suite au terme 14 est égale à 16 \n",
      "La valeur dela suite au terme 15 est égale à 8 \n",
      "La valeur dela suite au terme 16 est égale à 4 \n",
      "La valeur dela suite au terme 17 est égale à 2 \n",
      "La valeur dela suite au terme 18 est égale à 1 \n",
      "Un = 1 lorsque n est égale à 19 \n"
     ]
    }
   ],
   "source": [
    "A = int(input(\"Entrez la valeur initiale de la suite Syracuse: \\n\"))\n",
    "n = 1\n",
    "Un = A\n",
    "while (Un != 1):\n",
    "    if(Un % 2 == 0):\n",
    "        Un = Un/2\n",
    "    else:\n",
    "        Un = 3*Un + 1\n",
    "    print(\"La valeur dela suite au terme %i est égale à %i \" %(n, Un))\n",
    "    n += 1\n",
    "print(\"Un = 1 lorsque n est égale à %i \" %n)\n"
   ]
  },
  {
   "cell_type": "code",
   "execution_count": 30,
   "metadata": {},
   "outputs": [
    {
     "name": "stdout",
     "output_type": "stream",
     "text": [
      "Un à l'étape 1 est égale à 22\n",
      "Un à l'étape 2 est égale à 11\n",
      "Un à l'étape 3 est égale à 34\n",
      "Un à l'étape 4 est égale à 17\n",
      "Un à l'étape 5 est égale à 52\n",
      "Un à l'étape 6 est égale à 26\n",
      "Un à l'étape 7 est égale à 13\n",
      "Un à l'étape 8 est égale à 40\n",
      "Un à l'étape 9 est égale à 20\n",
      "Un à l'étape 10 est égale à 10\n",
      "Un à l'étape 11 est égale à 5\n",
      "Un à l'étape 12 est égale à 16\n",
      "Un à l'étape 13 est égale à 8\n",
      "Un à l'étape 14 est égale à 4\n",
      "Un à l'étape 15 est égale à 2\n",
      "Un à l'étape 16 est égale à 1\n",
      "Un = 1 lorsque n est égale à 17 et la plus grande valeur atteint par Un est 52 \n",
      "La plus longue descente est égale à  5\n"
     ]
    }
   ],
   "source": [
    "A = int(input(\"Entrez la valeur initiale de la suite Syracuse: \\n\"))\n",
    "n = 1\n",
    "Un = A\n",
    "Un_max = A\n",
    "count_descente = 1\n",
    "count_descente_max = 2\n",
    "Un_prev = Un\n",
    "while (Un != 1):\n",
    "    if(Un %2 ==0):\n",
    "        Un = Un/2\n",
    "    else:\n",
    "        Un = 3*Un + 1\n",
    "\n",
    "    if (Un > Un_max):\n",
    "        Un_max = Un\n",
    "    \n",
    "    if(Un < Un_prev):\n",
    "        count_descente += 1\n",
    "    else: \n",
    "        count_descente = 1\n",
    "    Un_prev = Un\n",
    "\n",
    "    if(count_descente > count_descente_max):\n",
    "        count_descente_max = count_descente\n",
    "        \n",
    "    print(\"Un à l'étape %i est égale à %i\" %(n,Un))\n",
    "    n += 1\n",
    "print(\"Un = 1 lorsque n est égale à %i et la plus grande valeur atteint par Un est %i \" %(n , Un_max))\n",
    "print(\"La plus longue descente est égale à \", count_descente_max )\n"
   ]
  },
  {
   "cell_type": "markdown",
   "metadata": {},
   "source": [
    "# Boucle Imbriquées\n",
    "## 1.3.17 Escaliers\n"
   ]
  },
  {
   "cell_type": "code",
   "execution_count": 97,
   "metadata": {},
   "outputs": [
    {
     "name": "stdout",
     "output_type": "stream",
     "text": [
      "****\n",
      "****\n",
      "****\n",
      "****\n",
      "****\n"
     ]
    }
   ],
   "source": [
    "N = int(input(\"Entrez un entier N\")) # N = 4\n",
    "i = 0\n",
    "\n",
    "while (i <= N):\n",
    "    j = 0\n",
    "    symbol = ''\n",
    "    while( j < 4):\n",
    "        symbol = symbol + '*'\n",
    "        j += 1\n",
    "    print(symbol)\n",
    "    i += 1\n",
    "    "
   ]
  },
  {
   "cell_type": "code",
   "execution_count": 99,
   "metadata": {},
   "outputs": [
    {
     "name": "stdout",
     "output_type": "stream",
     "text": [
      "*\n",
      "**\n",
      "***\n",
      "****\n",
      "*****\n",
      "******\n",
      "*******\n",
      "********\n",
      "*********\n",
      "**********\n",
      "***********\n"
     ]
    }
   ],
   "source": [
    "N = int(input(\"Entrez un entier N\"))\n",
    "i = 0\n",
    "while (i <= N):\n",
    "    j = 0\n",
    "    symbol = ''\n",
    "    while( j <= i):\n",
    "        symbol = symbol + '*'\n",
    "        j += 1\n",
    "    print(symbol)\n",
    "    i += 1"
   ]
  },
  {
   "cell_type": "code",
   "execution_count": 102,
   "metadata": {},
   "outputs": [
    {
     "name": "stdout",
     "output_type": "stream",
     "text": [
      "    *\n",
      "   **\n",
      "  ***\n",
      " ****\n",
      "*****\n"
     ]
    }
   ],
   "source": [
    "N = int(input(\"Entrez un entier N\"))\n",
    "i = 0\n",
    "#while (i < N):\n",
    "    #print(((i+1)*'*').rjust(N))\n",
    "#    print('{:>{N}}'.format((i+1)*'*', N = N))\n",
    "#    i += 1\n",
    "while (i <= N):\n",
    "    j = 0\n",
    "    symbol = ''\n",
    "    while( j <= i):\n",
    "        symbol = symbol + '*'\n",
    "        j += 1\n",
    "    print('{:>{N}}'.format(symbol, N = N+1))\n",
    "    i += 1"
   ]
  },
  {
   "cell_type": "code",
   "execution_count": 103,
   "metadata": {},
   "outputs": [
    {
     "name": "stdout",
     "output_type": "stream",
     "text": [
      "*****\n",
      "****\n",
      "***\n",
      "**\n",
      "*\n"
     ]
    }
   ],
   "source": [
    "N = int(input(\"Entrez un entier N\"))\n",
    "i = 0\n",
    "while (i <= N):\n",
    "    j = 0\n",
    "    symbol = ''\n",
    "    while( j <= (N-i)):\n",
    "        symbol = symbol + '*'\n",
    "        j += 1\n",
    "    print(symbol)\n",
    "    i += 1"
   ]
  },
  {
   "cell_type": "code",
   "execution_count": 104,
   "metadata": {},
   "outputs": [
    {
     "name": "stdout",
     "output_type": "stream",
     "text": [
      "*****\n",
      " ****\n",
      "  ***\n",
      "   **\n",
      "    *\n"
     ]
    }
   ],
   "source": [
    "N = int(input(\"Entrez un entier N\"))\n",
    "i = 0\n",
    "while (i <= N):\n",
    "    j = 0\n",
    "    symbol = ''\n",
    "    while( j <= (N-i)):\n",
    "        symbol = symbol + '*'\n",
    "        j += 1\n",
    "    print('{:>{N}}'.format(symbol, N = N+1))\n",
    "    i += 1"
   ]
  },
  {
   "cell_type": "code",
   "execution_count": 111,
   "metadata": {},
   "outputs": [
    {
     "name": "stdout",
     "output_type": "stream",
     "text": [
      "   *    \n",
      "  ***   \n",
      " *****  \n",
      "***o*** \n"
     ]
    }
   ],
   "source": [
    "N = int(input(\"Entrez un entier N\"))\n",
    "i = 0\n",
    "while (i < N):\n",
    "#    print(((2*i+1)*'*').center(2*N))\n",
    "    s = '' \n",
    "\n",
    "    if( i == N-1):\n",
    "        s = i*'*' + 'o' + i*'*'\n",
    "    else:\n",
    "        j = 0\n",
    "        while(j < 2*i+1):\n",
    "            s = s  + '*'\n",
    "            j += 1\n",
    "    print('{:^{N}}'.format(s, N = 2*N))\n",
    "    i += 1"
   ]
  },
  {
   "cell_type": "code",
   "execution_count": null,
   "metadata": {},
   "outputs": [],
   "source": []
  },
  {
   "cell_type": "markdown",
   "metadata": {},
   "source": [
    "# 1.3.18\n"
   ]
  },
  {
   "cell_type": "code",
   "execution_count": 113,
   "metadata": {},
   "outputs": [
    {
     "name": "stdout",
     "output_type": "stream",
     "text": [
      " 1\n",
      " 1 2\n",
      " 1 2 3\n",
      " 1 2 3 4\n",
      " 1 2 3 4 5\n"
     ]
    }
   ],
   "source": [
    "nbr_ligne = int(input(\"Veuillez Entrer nombre de ligne :\\n\"))\n",
    "i = 1\n",
    "while (i<= nbr_ligne):\n",
    "    j = 1\n",
    "    s = ''\n",
    "    while (j <= i):\n",
    "        s = s + ' ' + str(j) \n",
    "        j += 1\n",
    "    print(s)\n",
    "    i+=1"
   ]
  },
  {
   "cell_type": "code",
   "execution_count": 115,
   "metadata": {},
   "outputs": [
    {
     "name": "stdout",
     "output_type": "stream",
     "text": [
      " 1\n",
      " 2 3\n",
      " 4 5 6\n",
      " 7 8 9 10\n"
     ]
    }
   ],
   "source": [
    "nbr_ligne = int(input(\"Veuillez Entrer nombre de ligne :\\n\"))\n",
    "i = 1\n",
    "count = 1\n",
    "while (i<= nbr_ligne):\n",
    "    s = ''\n",
    "    j = 1\n",
    "    while (j <= i):\n",
    "        s = s + ' ' + str(count) \n",
    "        j += 1\n",
    "        count += 1\n",
    "    print(s)\n",
    "    i+=1"
   ]
  },
  {
   "cell_type": "code",
   "execution_count": 76,
   "metadata": {},
   "outputs": [
    {
     "name": "stdout",
     "output_type": "stream",
     "text": [
      " 1 2\n",
      " 1\n",
      "\n",
      "\n"
     ]
    }
   ],
   "source": [
    "nbr_ligne = int(input(\"Veuillez Entrer nombre de ligne :\\n\"))\n",
    "i = 1\n",
    "while (i<= nbr_ligne):\n",
    "    j = 1\n",
    "    s = ''\n",
    "    while (j <= (nbr_ligne - i + 1)):\n",
    "        s = s + ' ' + str(j) \n",
    "        j += 1\n",
    "    print(s)\n",
    "    i+=1"
   ]
  },
  {
   "cell_type": "code",
   "execution_count": 78,
   "metadata": {},
   "outputs": [
    {
     "name": "stdout",
     "output_type": "stream",
     "text": [
      " 10 9 8 7\n",
      " 6 5 4\n",
      " 3 2\n",
      " 1\n"
     ]
    }
   ],
   "source": [
    "nbr_ligne = int(input(\"Veuillez Entrer nombre de ligne :\\n\"))\n",
    "i = 1\n",
    "count = 10\n",
    "while (i<= nbr_ligne):\n",
    "    s = ''\n",
    "    j = 1\n",
    "    while (j <= (nbr_ligne - i +1)):\n",
    "        s = s + ' ' + str(count) \n",
    "        j += 1\n",
    "        count -= 1\n",
    "    print(s)\n",
    "    i+=1"
   ]
  },
  {
   "cell_type": "code",
   "execution_count": 81,
   "metadata": {},
   "outputs": [
    {
     "name": "stdout",
     "output_type": "stream",
     "text": [
      "       1\n",
      "     1 2\n",
      "   1 2 3\n",
      " 1 2 3 4\n"
     ]
    }
   ],
   "source": [
    "nbr_ligne = int(input(\"Veuillez Entrer nombre de ligne :\\n\"))\n",
    "i = 1\n",
    "while (i<= nbr_ligne):\n",
    "    j = 1\n",
    "    s = ''\n",
    "    while (j <= i):\n",
    "        s = s + ' ' + str(j) \n",
    "        j += 1\n",
    "    print('{:>{nbr_ligne}}'.format(s, nbr_ligne = 2*nbr_ligne))\n",
    "    i+=1"
   ]
  },
  {
   "cell_type": "code",
   "execution_count": 82,
   "metadata": {},
   "outputs": [
    {
     "name": "stdout",
     "output_type": "stream",
     "text": [
      "       1\n",
      "     2 3\n",
      "   4 5 6\n",
      " 7 8 9 10\n"
     ]
    }
   ],
   "source": [
    "nbr_ligne = int(input(\"Veuillez Entrer nombre de ligne :\\n\"))\n",
    "i = 1\n",
    "count = 1\n",
    "while (i<= nbr_ligne):\n",
    "    s = ''\n",
    "    j = 1\n",
    "    while (j <= i):\n",
    "        s = s + ' ' + str(count) \n",
    "        j += 1\n",
    "        count += 1\n",
    "    print('{:>{nbr_ligne}}'.format(s, nbr_ligne = 2*nbr_ligne))\n",
    "    i+=1"
   ]
  },
  {
   "cell_type": "code",
   "execution_count": null,
   "metadata": {},
   "outputs": [],
   "source": []
  }
 ],
 "metadata": {
  "kernelspec": {
   "display_name": "Python 3.7.7 64-bit (conda)",
   "name": "python377jvsc74a57bd0d39583a35dc80721d62e826c1e184a665d86c2ede3449ca2b073d93eb61147cc"
  },
  "language_info": {
   "codemirror_mode": {
    "name": "ipython",
    "version": 3
   },
   "file_extension": ".py",
   "mimetype": "text/x-python",
   "name": "python",
   "nbconvert_exporter": "python",
   "pygments_lexer": "ipython3",
   "version": "3.7.7"
  },
  "metadata": {
   "interpreter": {
    "hash": "d39583a35dc80721d62e826c1e184a665d86c2ede3449ca2b073d93eb61147cc"
   }
  },
  "orig_nbformat": 2
 },
 "nbformat": 4,
 "nbformat_minor": 2
}